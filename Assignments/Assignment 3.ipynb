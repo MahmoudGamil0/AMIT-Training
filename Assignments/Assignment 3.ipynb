{
 "cells": [
  {
   "cell_type": "markdown",
   "metadata": {},
   "source": [
    "# Assignment 3"
   ]
  },
  {
   "cell_type": "markdown",
   "metadata": {},
   "source": [
    "### Write a function to count the number 4 in a given list."
   ]
  },
  {
   "cell_type": "code",
   "execution_count": 1,
   "metadata": {},
   "outputs": [],
   "source": [
    "#create a function to count the number 1 in a list\n",
    "def list_count_num_4(list1) :\n",
    "    \n",
    "    #make a variable to count\n",
    "    counter = 0\n",
    "    \n",
    "    #loop on the given list\n",
    "    for num in list1 :\n",
    "        \n",
    "        #condition to check the number 4 \n",
    "        if num == 4 :\n",
    "            \n",
    "            #counter will add 1 if the condition is true\n",
    "            counter = counter + 1\n",
    "    \n",
    "    # return the counter value\n",
    "    return counter"
   ]
  },
  {
   "cell_type": "code",
   "execution_count": 2,
   "metadata": {},
   "outputs": [
    {
     "name": "stdout",
     "output_type": "stream",
     "text": [
      "3\n"
     ]
    }
   ],
   "source": [
    "list1 = [1, 2, 3, 4, 5, 6, 4, 7, 8, 4]\n",
    "\n",
    "print(list_count_num_4(list1))"
   ]
  },
  {
   "cell_type": "markdown",
   "metadata": {},
   "source": [
    "### write a  function to check whether a number is divisible by another number."
   ]
  },
  {
   "cell_type": "code",
   "execution_count": 3,
   "metadata": {},
   "outputs": [],
   "source": [
    "#create a function to check is a number divisible by another number\n",
    "def is_divisible_by (num1, num2) :\n",
    "    \n",
    "    #using modulus in the condition to check\n",
    "    if num1 % num2 == 0 :\n",
    "        return True\n",
    "\n",
    "    else :\n",
    "        return False"
   ]
  },
  {
   "cell_type": "code",
   "execution_count": 4,
   "metadata": {},
   "outputs": [
    {
     "name": "stdout",
     "output_type": "stream",
     "text": [
      "True\n",
      "False\n"
     ]
    }
   ],
   "source": [
    "print (is_divisible_by(8,2))\n",
    "\n",
    "print (is_divisible_by(9,2))"
   ]
  },
  {
   "cell_type": "markdown",
   "metadata": {},
   "source": [
    "### write a function to find the maximum and minimum numbers from a sequence of numbers."
   ]
  },
  {
   "cell_type": "code",
   "execution_count": 5,
   "metadata": {},
   "outputs": [],
   "source": [
    "#create a function to find maximum and minimum numbers\n",
    "def max_min (list2) :\n",
    "    \n",
    "    #create two variables to compare \n",
    "    minn = 0\n",
    "    maxx = 0\n",
    "    \n",
    "    #loop on a sequence of numbers\n",
    "    for num in list2 :\n",
    "        \n",
    "        #compare and store the maximum in variable (maxx)\n",
    "        if num > maxx :\n",
    "            maxx = num\n",
    "        \n",
    "        #compare and store the minimum in variable (min)\n",
    "        elif num < minn :\n",
    "            minn = num\n",
    "        \n",
    "    return maxx, minn"
   ]
  },
  {
   "cell_type": "code",
   "execution_count": 7,
   "metadata": {},
   "outputs": [
    {
     "name": "stdout",
     "output_type": "stream",
     "text": [
      "(85, -25)\n"
     ]
    }
   ],
   "source": [
    "list2 = [0, 10, 15, 40, -25, 42, 17, 28, 85]\n",
    "\n",
    "print(max_min(list2))"
   ]
  },
  {
   "cell_type": "markdown",
   "metadata": {},
   "source": [
    "### Write a Python function that takes two lists and returns True if they have at least one common member."
   ]
  },
  {
   "cell_type": "code",
   "execution_count": 18,
   "metadata": {},
   "outputs": [],
   "source": [
    "#create a function to check if there are at least one common member in two lists\n",
    "def common_member (list1, list2) :\n",
    "    \n",
    "    #create a boolean variable\n",
    "    result = False\n",
    "    \n",
    "    #loop on first list\n",
    "    for num1 in list1 :\n",
    "        \n",
    "        #loop on second list\n",
    "        for num2 in list2 :\n",
    "            \n",
    "            #compare between them\n",
    "            if num1 == num2 :\n",
    "                result = True\n",
    "                \n",
    "    return result"
   ]
  },
  {
   "cell_type": "code",
   "execution_count": 19,
   "metadata": {},
   "outputs": [
    {
     "name": "stdout",
     "output_type": "stream",
     "text": [
      "True\n",
      "False\n"
     ]
    }
   ],
   "source": [
    "list1 = [1,2,3,4,5]\n",
    "\n",
    "list2 = [5,6,7,8,9]\n",
    "\n",
    "list3 = [6,7,8,9]\n",
    "\n",
    "\n",
    "print(common_member(list1,list2))\n",
    "\n",
    "print(common_member(list1,list3))"
   ]
  },
  {
   "cell_type": "markdown",
   "metadata": {},
   "source": [
    "### Write a Python function to calculate the factorial of a number (a non-negative integer). The function accepts the number from the user"
   ]
  },
  {
   "cell_type": "code",
   "execution_count": 20,
   "metadata": {},
   "outputs": [],
   "source": [
    "#create a recursion function to calculate the factorial\n",
    "def facto (num) :\n",
    "    \n",
    "    #condition to check the number\n",
    "    if num == 0 :\n",
    "        return 1\n",
    "    \n",
    "    #recurs the function \n",
    "    else :\n",
    "        return num * facto(num-1)"
   ]
  },
  {
   "cell_type": "code",
   "execution_count": 21,
   "metadata": {},
   "outputs": [
    {
     "name": "stdout",
     "output_type": "stream",
     "text": [
      "enter number : 5\n",
      "120\n"
     ]
    }
   ],
   "source": [
    "num = int(input('enter number : '))\n",
    "\n",
    "#non-negative integer\n",
    "num = abs(num)\n",
    "\n",
    "print(facto(num))"
   ]
  },
  {
   "cell_type": "markdown",
   "metadata": {},
   "source": [
    "### Write a Python function to check whether a number is in a given range.\n",
    "\n",
    "### The range is from 3 to 11\n"
   ]
  },
  {
   "cell_type": "code",
   "execution_count": 22,
   "metadata": {},
   "outputs": [],
   "source": [
    "#create a function to check is a number in the range\n",
    "def check_range (num) :\n",
    "    \n",
    "    #condition to check if the number in the range\n",
    "    if num in range (3,11) :\n",
    "        return True\n",
    "\n",
    "    else :\n",
    "        return False"
   ]
  },
  {
   "cell_type": "code",
   "execution_count": 23,
   "metadata": {},
   "outputs": [
    {
     "name": "stdout",
     "output_type": "stream",
     "text": [
      "True\n",
      "False\n"
     ]
    }
   ],
   "source": [
    "print(check_range(7))\n",
    "\n",
    "print(check_range(2))"
   ]
  },
  {
   "cell_type": "markdown",
   "metadata": {},
   "source": [
    "### Write a  program to create the multiplication table (from 1 to 10) of a number."
   ]
  },
  {
   "cell_type": "code",
   "execution_count": 25,
   "metadata": {},
   "outputs": [
    {
     "name": "stdout",
     "output_type": "stream",
     "text": [
      "6 x 1 = 6\n",
      "6 x 2 = 12\n",
      "6 x 3 = 18\n",
      "6 x 4 = 24\n",
      "6 x 5 = 30\n",
      "6 x 6 = 36\n",
      "6 x 7 = 42\n",
      "6 x 8 = 48\n",
      "6 x 9 = 54\n",
      "6 x 10 = 60\n"
     ]
    }
   ],
   "source": [
    "num = 6\n",
    "\n",
    "#loop to make the multiplication table\n",
    "for n in range (1,11) :\n",
    "    \n",
    "    print(num,'x',n,'=',num*n)"
   ]
  },
  {
   "cell_type": "markdown",
   "metadata": {},
   "source": [
    "#### LESSER OF TWO EVENS: Write a function that returns the lesser of two given numbers *if* both numbers are even, but returns the greater if one or both numbers are odd\n",
    "    lesser_of_two_evens(2,4) --> 2\n",
    "    lesser_of_two_evens(2,5) --> 5"
   ]
  },
  {
   "cell_type": "code",
   "execution_count": 32,
   "metadata": {},
   "outputs": [],
   "source": [
    "#create a function check the lesser of two numbers\n",
    "def lesser_of_two_evens(num1, num2):\n",
    "    \n",
    "    #using modulus to check and compare between them\n",
    "    if num1 % 2 == 0 and num2 % 2 == 0 :\n",
    "        \n",
    "        #return the minimum value\n",
    "        return min(num1, num2)\n",
    "            \n",
    "    else :\n",
    "        \n",
    "        #return the maximum value\n",
    "        return max(num1, num2)"
   ]
  },
  {
   "cell_type": "code",
   "execution_count": 34,
   "metadata": {},
   "outputs": [
    {
     "name": "stdout",
     "output_type": "stream",
     "text": [
      "2\n",
      "5\n"
     ]
    }
   ],
   "source": [
    "print(lesser_of_two_evens(2,4))\n",
    "\n",
    "print(lesser_of_two_evens(2,5))"
   ]
  }
 ],
 "metadata": {
  "kernelspec": {
   "display_name": "Python 3 (ipykernel)",
   "language": "python",
   "name": "python3"
  },
  "language_info": {
   "codemirror_mode": {
    "name": "ipython",
    "version": 3
   },
   "file_extension": ".py",
   "mimetype": "text/x-python",
   "name": "python",
   "nbconvert_exporter": "python",
   "pygments_lexer": "ipython3",
   "version": "3.10.5"
  }
 },
 "nbformat": 4,
 "nbformat_minor": 2
}
