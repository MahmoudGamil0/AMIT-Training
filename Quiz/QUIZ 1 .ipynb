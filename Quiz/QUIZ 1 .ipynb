{
 "cells": [
  {
   "cell_type": "markdown",
   "metadata": {
    "collapsed": true
   },
   "source": [
    "# QUIZ\n",
    "Let's test your knowledge!"
   ]
  },
  {
   "cell_type": "markdown",
   "metadata": {},
   "source": [
    "_____\n",
    "**Use <code>for</code>, .split(), and <code>if</code> to create a Statement that will print out words that start with 's':**"
   ]
  },
  {
   "cell_type": "code",
   "execution_count": 6,
   "metadata": {},
   "outputs": [],
   "source": [
    "st = 'Print only the words that start with s in this sentence'"
   ]
  },
  {
   "cell_type": "code",
   "execution_count": 12,
   "metadata": {},
   "outputs": [
    {
     "name": "stdout",
     "output_type": "stream",
     "text": [
      "start\n",
      "s\n",
      "sentence\n"
     ]
    }
   ],
   "source": [
    "#make a list of words\n",
    "lt1 = st.split(' ')\n",
    "\n",
    "#loop to search words start with 's'\n",
    "for s in lt1:\n",
    "    \n",
    "    #make a variable to search by it\n",
    "    ch = 's'\n",
    "    \n",
    "    #compare the first letter with the variable\n",
    "    if ch == s[0]:\n",
    "        \n",
    "        print(s)"
   ]
  },
  {
   "cell_type": "markdown",
   "metadata": {},
   "source": [
    "______\n",
    "**Use range() to print all the even numbers from 0 to 10.**"
   ]
  },
  {
   "cell_type": "code",
   "execution_count": 2,
   "metadata": {},
   "outputs": [
    {
     "name": "stdout",
     "output_type": "stream",
     "text": [
      "0  is even\n",
      "2  is even\n",
      "4  is even\n",
      "6  is even\n",
      "8  is even\n"
     ]
    }
   ],
   "source": [
    "#loop from 0 to 10 to cheak even numbers\n",
    "for num in range(0,10):\n",
    "    \n",
    "    #using moduls to cheak \n",
    "    if num % 2 == 0 :\n",
    "        \n",
    "        print(num, ' is even')"
   ]
  },
  {
   "cell_type": "markdown",
   "metadata": {},
   "source": [
    "___\n",
    "**Use a List Comprehension to create a list of all numbers between 1 and 50 that are divisible by 3.**"
   ]
  },
  {
   "cell_type": "code",
   "execution_count": 4,
   "metadata": {},
   "outputs": [
    {
     "name": "stdout",
     "output_type": "stream",
     "text": [
      "[3, 6, 9, 12, 15, 18, 21, 24, 27, 30, 33, 36, 39, 42, 45, 48]\n"
     ]
    }
   ],
   "source": [
    "#create empty list\n",
    "lt = []\n",
    "\n",
    "#loop from 1 to 50 to cheak numbers that divisible by 3\n",
    "for num in range(1,50) :\n",
    "    \n",
    "    #using moduls to cheak\n",
    "    if num % 3 == 0 :\n",
    "        \n",
    "        #adding the number to the list\n",
    "        lt.append(num)\n",
    "        \n",
    "print(lt)"
   ]
  },
  {
   "cell_type": "markdown",
   "metadata": {},
   "source": [
    "_____\n",
    "**Go through the string below and if the length of a word is even print \"even!\"**"
   ]
  },
  {
   "cell_type": "code",
   "execution_count": 13,
   "metadata": {},
   "outputs": [],
   "source": [
    "st = 'Print every word in this sentence that has an even number of letters'"
   ]
  },
  {
   "cell_type": "code",
   "execution_count": 14,
   "metadata": {},
   "outputs": [
    {
     "name": "stdout",
     "output_type": "stream",
     "text": [
      "word  is even\n",
      "in  is even\n",
      "this  is even\n",
      "sentence  is even\n",
      "that  is even\n",
      "an  is even\n",
      "even  is even\n",
      "number  is even\n",
      "of  is even\n"
     ]
    }
   ],
   "source": [
    "#make a list of words\n",
    "lt = st.split(' ')\n",
    "\n",
    "#loop to search words\n",
    "for w in lt:\n",
    "\n",
    "    #using moduls to cheak the length of word\n",
    "    if len(w) % 2 == 0:\n",
    "        \n",
    "        print(w, ' is even')"
   ]
  },
  {
   "cell_type": "markdown",
   "metadata": {},
   "source": [
    "____\n",
    "**Write a program that prints the integers from 1 to 100. But for multiples of three print \"Fizz\" instead of the number, and for the multiples of five print \"Buzz\". For numbers which are multiples of both three and five print \"FizzBuzz\".**"
   ]
  },
  {
   "cell_type": "code",
   "execution_count": 15,
   "metadata": {},
   "outputs": [
    {
     "name": "stdout",
     "output_type": "stream",
     "text": [
      "3 is fizz\n",
      "5 is buzz\n",
      "6 is fizz\n",
      "9 is fizz\n",
      "10 is buzz\n",
      "12 is fizz\n",
      "15 is fizzbuzz\n",
      "18 is fizz\n",
      "20 is buzz\n",
      "21 is fizz\n",
      "24 is fizz\n",
      "25 is buzz\n",
      "27 is fizz\n",
      "30 is fizzbuzz\n",
      "33 is fizz\n",
      "35 is buzz\n",
      "36 is fizz\n",
      "39 is fizz\n",
      "40 is buzz\n",
      "42 is fizz\n",
      "45 is fizzbuzz\n",
      "48 is fizz\n",
      "50 is buzz\n",
      "51 is fizz\n",
      "54 is fizz\n",
      "55 is buzz\n",
      "57 is fizz\n",
      "60 is fizzbuzz\n",
      "63 is fizz\n",
      "65 is buzz\n",
      "66 is fizz\n",
      "69 is fizz\n",
      "70 is buzz\n",
      "72 is fizz\n",
      "75 is fizzbuzz\n",
      "78 is fizz\n",
      "80 is buzz\n",
      "81 is fizz\n",
      "84 is fizz\n",
      "85 is buzz\n",
      "87 is fizz\n",
      "90 is fizzbuzz\n",
      "93 is fizz\n",
      "95 is buzz\n",
      "96 is fizz\n",
      "99 is fizz\n"
     ]
    }
   ],
   "source": [
    "#loop from 1 to 100 \n",
    "for i in range(1,100) :\n",
    "    \n",
    "    #cheak if the number is multiples of both three and five\n",
    "    if i % 3 == 0 and i % 5 == 0:\n",
    "        print('{} is fizzbuzz'.format(i))\n",
    "    \n",
    "    #cheak if the number is multiples of both three and five    \n",
    "    elif i % 3 == 0:\n",
    "        print('{} is fizz'.format(i))\n",
    "    \n",
    "    #cheak if the number is multiples of both three and five\n",
    "    elif i % 5 == 0:\n",
    "        print('{} is buzz'.format(i))"
   ]
  },
  {
   "cell_type": "markdown",
   "metadata": {},
   "source": [
    "____\n",
    "**Use List Comprehension to create a list of the first letters of every word in the string below:**"
   ]
  },
  {
   "cell_type": "code",
   "execution_count": 16,
   "metadata": {},
   "outputs": [],
   "source": [
    "st = 'Create a list of the first letters of every word in this string'"
   ]
  },
  {
   "cell_type": "code",
   "execution_count": 17,
   "metadata": {},
   "outputs": [
    {
     "name": "stdout",
     "output_type": "stream",
     "text": [
      "['C', 'a', 'l', 'o', 't', 'f', 'l', 'o', 'e', 'w', 'i', 't', 's']\n"
     ]
    }
   ],
   "source": [
    "#make a list of words\n",
    "lt1 = st.split(' ')\n",
    "\n",
    "#make an empty list \n",
    "lt2 = []\n",
    "\n",
    "#loop on the first list \n",
    "for l in lt1:\n",
    "    \n",
    "    #adding the first letter of all word in the empty list\n",
    "    lt2.append(l[0])\n",
    "\n",
    "print(lt2)"
   ]
  },
  {
   "cell_type": "markdown",
   "metadata": {},
   "source": [
    "### Great Job!"
   ]
  }
 ],
 "metadata": {
  "kernelspec": {
   "display_name": "Python 3 (ipykernel)",
   "language": "python",
   "name": "python3"
  },
  "language_info": {
   "codemirror_mode": {
    "name": "ipython",
    "version": 3
   },
   "file_extension": ".py",
   "mimetype": "text/x-python",
   "name": "python",
   "nbconvert_exporter": "python",
   "pygments_lexer": "ipython3",
   "version": "3.9.12"
  }
 },
 "nbformat": 4,
 "nbformat_minor": 1
}
