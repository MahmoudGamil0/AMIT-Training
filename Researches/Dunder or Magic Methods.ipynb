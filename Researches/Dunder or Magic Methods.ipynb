{
 "cells": [
  {
   "cell_type": "markdown",
   "id": "abb578ad",
   "metadata": {},
   "source": [
    "## __init__"
   ]
  },
  {
   "cell_type": "code",
   "execution_count": 1,
   "id": "bc7f862f",
   "metadata": {},
   "outputs": [],
   "source": [
    "# declare our own string class\n",
    "class String:\n",
    "      \n",
    "    # magic method to initiate object\n",
    "    def __init__(self, string):\n",
    "        self.string = string"
   ]
  },
  {
   "cell_type": "code",
   "execution_count": 2,
   "id": "dcd9e3fa",
   "metadata": {},
   "outputs": [
    {
     "name": "stdout",
     "output_type": "stream",
     "text": [
      "<__main__.String object at 0x000001BFBBACB340>\n"
     ]
    }
   ],
   "source": [
    "string1 = String('Hello')\n",
    "\n",
    "print(string1)"
   ]
  },
  {
   "cell_type": "markdown",
   "id": "eb00cfd5",
   "metadata": {},
   "source": [
    "## new"
   ]
  },
  {
   "cell_type": "code",
   "execution_count": 3,
   "id": "2d7da076",
   "metadata": {},
   "outputs": [],
   "source": [
    "class A(object):\n",
    "    \n",
    "    #method returns a new object\n",
    "    def __new__(cls):\n",
    "        print(\"Creating instance\")\n",
    "  \n",
    "    # It is not called\n",
    "    def __init__(self):\n",
    "        print(\"Init is called\")"
   ]
  },
  {
   "cell_type": "code",
   "execution_count": 4,
   "id": "09043053",
   "metadata": {},
   "outputs": [
    {
     "name": "stdout",
     "output_type": "stream",
     "text": [
      "Creating instance\n",
      "None\n"
     ]
    }
   ],
   "source": [
    "print(A())"
   ]
  },
  {
   "cell_type": "markdown",
   "id": "2d908b56",
   "metadata": {},
   "source": [
    "## call"
   ]
  },
  {
   "cell_type": "code",
   "execution_count": 5,
   "id": "d9cb2f64",
   "metadata": {},
   "outputs": [],
   "source": [
    "class Example:\n",
    "    \n",
    "    def __init__(self):\n",
    "        print(\"Instance Created\")\n",
    "      \n",
    "    # Defining __call__ method\n",
    "    def __call__(self):\n",
    "        print(\"Instance is called via special method\")"
   ]
  },
  {
   "cell_type": "code",
   "execution_count": 6,
   "id": "b1c86279",
   "metadata": {},
   "outputs": [
    {
     "name": "stdout",
     "output_type": "stream",
     "text": [
      "Instance Created\n"
     ]
    },
    {
     "data": {
      "text/plain": [
       "<__main__.Example at 0x1bfbbacb4f0>"
      ]
     },
     "execution_count": 6,
     "metadata": {},
     "output_type": "execute_result"
    }
   ],
   "source": [
    "Example()"
   ]
  },
  {
   "cell_type": "code",
   "execution_count": 7,
   "id": "70ce7246",
   "metadata": {},
   "outputs": [
    {
     "name": "stdout",
     "output_type": "stream",
     "text": [
      "Instance Created\n",
      "Instance is called via special method\n"
     ]
    }
   ],
   "source": [
    "e = Example()\n",
    "\n",
    "e()"
   ]
  },
  {
   "cell_type": "markdown",
   "id": "449af4f7",
   "metadata": {},
   "source": [
    "## len"
   ]
  },
  {
   "cell_type": "code",
   "execution_count": 8,
   "id": "39138e8d",
   "metadata": {},
   "outputs": [],
   "source": [
    "class LenExample:\n",
    "    \n",
    "    def __init__(self, item):\n",
    "        self.item = item\n",
    "    \n",
    "    # Defining __len__ method\n",
    "    def __len__(self):\n",
    "        return len(self.item)"
   ]
  },
  {
   "cell_type": "code",
   "execution_count": 9,
   "id": "116c43f2",
   "metadata": {},
   "outputs": [
    {
     "name": "stdout",
     "output_type": "stream",
     "text": [
      "3\n"
     ]
    }
   ],
   "source": [
    "lenn = LenExample([1, 2, 3])\n",
    "\n",
    "print(len(lenn))"
   ]
  },
  {
   "cell_type": "markdown",
   "id": "4f739569",
   "metadata": {},
   "source": [
    "## str"
   ]
  },
  {
   "cell_type": "code",
   "execution_count": 10,
   "id": "7c169681",
   "metadata": {},
   "outputs": [],
   "source": [
    "class StrExample:\n",
    "\n",
    "    def __init__(self, num, string):\n",
    "        self.num = num\n",
    "        self.string = string\n",
    "        \n",
    "    # Defining __len__ method\n",
    "    def __str__ (self):\n",
    "        return 'MyClass( Number = ' + str(self.string) + ' ,String = ' + self.string + ' )'"
   ]
  },
  {
   "cell_type": "code",
   "execution_count": 11,
   "id": "c069ec29",
   "metadata": {},
   "outputs": [
    {
     "name": "stdout",
     "output_type": "stream",
     "text": [
      "MyClass( Number = mahmoud ,String = mahmoud )\n"
     ]
    }
   ],
   "source": [
    "print(StrExample(77, 'mahmoud'))"
   ]
  },
  {
   "cell_type": "markdown",
   "id": "df6aed8c",
   "metadata": {},
   "source": [
    "## add"
   ]
  },
  {
   "cell_type": "code",
   "execution_count": 12,
   "id": "1c401506",
   "metadata": {},
   "outputs": [],
   "source": [
    "class AddExample:\n",
    "    def __init__(self, num1, num2):\n",
    "        self.num1 = num1\n",
    "        self.num2 = num2\n",
    "    \n",
    "    def __add__(self):\n",
    "        return AddExample(self.num1 + self.num2)"
   ]
  },
  {
   "cell_type": "code",
   "execution_count": 13,
   "id": "349602f8",
   "metadata": {},
   "outputs": [
    {
     "name": "stdout",
     "output_type": "stream",
     "text": [
      "<__main__.AddExample object at 0x000001BFBBACA8F0>\n"
     ]
    }
   ],
   "source": [
    "print(AddExample(5,7))"
   ]
  }
 ],
 "metadata": {
  "kernelspec": {
   "display_name": "Python 3 (ipykernel)",
   "language": "python",
   "name": "python3"
  },
  "language_info": {
   "codemirror_mode": {
    "name": "ipython",
    "version": 3
   },
   "file_extension": ".py",
   "mimetype": "text/x-python",
   "name": "python",
   "nbconvert_exporter": "python",
   "pygments_lexer": "ipython3",
   "version": "3.10.5"
  }
 },
 "nbformat": 4,
 "nbformat_minor": 5
}
