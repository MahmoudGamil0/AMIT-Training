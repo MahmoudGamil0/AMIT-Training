{
 "cells": [
  {
   "cell_type": "markdown",
   "id": "72587e72",
   "metadata": {},
   "source": [
    "## *args"
   ]
  },
  {
   "cell_type": "code",
   "execution_count": 1,
   "id": "bb935e6d",
   "metadata": {},
   "outputs": [],
   "source": [
    "def myFun(arg1, *argv):\n",
    "    \n",
    "    print(\"First argument :\", arg1)\n",
    "    \n",
    "    for arg in argv:\n",
    "        \n",
    "        print(\"Next argument through *argv :\", arg)"
   ]
  },
  {
   "cell_type": "code",
   "execution_count": 2,
   "id": "9a31c89b",
   "metadata": {},
   "outputs": [
    {
     "name": "stdout",
     "output_type": "stream",
     "text": [
      "First argument : Hello\n",
      "Next argument through *argv : Welcome\n",
      "Next argument through *argv : to\n",
      "Next argument through *argv : GeeksforGeeks\n"
     ]
    }
   ],
   "source": [
    "myFun('Hello', 'Welcome', 'to', 'GeeksforGeeks')"
   ]
  },
  {
   "cell_type": "markdown",
   "id": "0acda9cf",
   "metadata": {},
   "source": [
    "## **kwargs"
   ]
  },
  {
   "cell_type": "code",
   "execution_count": 3,
   "id": "ca83aca1",
   "metadata": {},
   "outputs": [],
   "source": [
    "def myFun(**kwargs):\n",
    "    \n",
    "    for key, value in kwargs.items():\n",
    "    \n",
    "        print(\"%s == %s\" % (key, value))"
   ]
  },
  {
   "cell_type": "code",
   "execution_count": 4,
   "id": "21992523",
   "metadata": {},
   "outputs": [
    {
     "name": "stdout",
     "output_type": "stream",
     "text": [
      "first == Geeks\n",
      "mid == for\n",
      "last == Geeks\n"
     ]
    }
   ],
   "source": [
    "myFun(first='Geeks', mid='for', last='Geeks')"
   ]
  },
  {
   "cell_type": "markdown",
   "id": "1644c2cc",
   "metadata": {},
   "source": [
    "## both"
   ]
  },
  {
   "cell_type": "code",
   "execution_count": 5,
   "id": "4add0842",
   "metadata": {},
   "outputs": [],
   "source": [
    "def myFun(arg1, arg2, arg3):\n",
    "    print(\"arg1:\", arg1)\n",
    "    print(\"arg2:\", arg2)\n",
    "    print(\"arg3:\", arg3)"
   ]
  },
  {
   "cell_type": "code",
   "execution_count": 6,
   "id": "100edaf8",
   "metadata": {},
   "outputs": [
    {
     "name": "stdout",
     "output_type": "stream",
     "text": [
      "arg1: Geeks\n",
      "arg2: for\n",
      "arg3: Geeks\n",
      "arg1: Geeks\n",
      "arg2: for\n",
      "arg3: Geeks\n"
     ]
    }
   ],
   "source": [
    "args = (\"Geeks\", \"for\", \"Geeks\")\n",
    "myFun(*args)\n",
    "  \n",
    "kwargs = {\"arg1\": \"Geeks\", \"arg2\": \"for\", \"arg3\": \"Geeks\"}\n",
    "myFun(**kwargs)"
   ]
  }
 ],
 "metadata": {
  "kernelspec": {
   "display_name": "Python 3 (ipykernel)",
   "language": "python",
   "name": "python3"
  },
  "language_info": {
   "codemirror_mode": {
    "name": "ipython",
    "version": 3
   },
   "file_extension": ".py",
   "mimetype": "text/x-python",
   "name": "python",
   "nbconvert_exporter": "python",
   "pygments_lexer": "ipython3",
   "version": "3.10.5"
  }
 },
 "nbformat": 4,
 "nbformat_minor": 5
}
